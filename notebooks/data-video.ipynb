{
 "cells": [
  {
   "cell_type": "code",
   "execution_count": null,
   "metadata": {},
   "outputs": [],
   "source": [
    "import numpy as np\n",
    "import matplotlib.pyplot as plt\n",
    "%matplotlib inline\n",
    "from PIL import Image, ImageDraw\n",
    "\n",
    "from revolver.data.davis import DAVISInstSeg\n",
    "from revolver.data.sparse import SparseSeg\n",
    "from revolver.data.filter import SlugFilter\n",
    "from revolver.data.conditional import ConditionalVideoSeg"
   ]
  },
  {
   "cell_type": "code",
   "execution_count": null,
   "metadata": {},
   "outputs": [],
   "source": [
    "import os\n",
    "import subprocess\n",
    "\n",
    "root_dir = subprocess.check_output(['git', 'rev-parse', '--show-toplevel']).strip()\n",
    "os.chdir(root_dir)"
   ]
  },
  {
   "cell_type": "code",
   "execution_count": null,
   "metadata": {},
   "outputs": [],
   "source": [
    "def draw_circle(d, r, loc, color='white'):\n",
    "    '''\n",
    "    Draw circle of radius r at location loc\n",
    "    on ImageDraw object d\n",
    "    d = ImageDraw.Draw(im)\n",
    "    '''\n",
    "    y, x = loc[0], loc[1]\n",
    "    d.ellipse((x-r, y-r, x+r, y+r), fill=tuple(color))\n",
    "    \n",
    "def load_and_show(ds, shot):\n",
    "    plt.rcParams.update({'font.size': 16})\n",
    "    fig, axes = plt.subplots(1, shot, figsize=(30, 10))\n",
    "    qry, supp, tgt, _ = ds[0]\n",
    "    for i, s in enumerate(supp):\n",
    "        im, anno = np.copy(s[0]), s[1]\n",
    "        im = Image.fromarray(im.astype(np.uint8))\n",
    "        d = ImageDraw.Draw(im)\n",
    "        for loc in zip(*np.where(anno != 0)):\n",
    "            draw_circle(d, 10, loc[2:], color=ds.palette[loc[1]])\n",
    "        axes[i].imshow(im)\n",
    "        axes[i].set_title('Support')\n",
    "    for _, ax in np.ndenumerate(axes):\n",
    "        ax.set_axis_off()\n",
    "        \n",
    "    fig, axes = plt.subplots(1, 2, figsize=(30, 20))\n",
    "    axes[0].imshow(qry)\n",
    "    axes[0].set_title('Query')\n",
    "    tgt = Image.fromarray(tgt.astype(np.uint8))\n",
    "    tgt.putpalette(ds.palette)\n",
    "    axes[1].imshow(tgt)\n",
    "    axes[1].set_title('Target')\n",
    "    for _, ax in np.ndenumerate(axes):\n",
    "        ax.set_axis_off()\n"
   ]
  },
  {
   "cell_type": "markdown",
   "metadata": {},
   "source": [
    "Visualize video segmentation tasks. During training, the support and query are sampled from anywhere in the sequence, and the instances that are annotated can vary. "
   ]
  },
  {
   "cell_type": "code",
   "execution_count": null,
   "metadata": {},
   "outputs": [],
   "source": [
    "# Configure support\n",
    "count = 1 # number of sparse points per image\n",
    "shot = 2 # number of images"
   ]
  },
  {
   "cell_type": "code",
   "execution_count": null,
   "metadata": {},
   "outputs": [],
   "source": [
    "is_eval = False\n",
    "\n",
    "sem_ds = DAVISInstSeg(split='val')\n",
    "vid_dsets = {vid: SparseSeg(SlugFilter(sem_ds, 'vid', [vid]), count=count, static=is_eval) for vid in sem_ds.load_videos()}\n",
    "cond_ds = ConditionalVideoSeg(sem_ds, vid_dsets, shot=shot, evaluation=is_eval)\n",
    "load_and_show(cond_ds, shot)"
   ]
  },
  {
   "cell_type": "markdown",
   "metadata": {},
   "source": [
    "During evaluation, support is fixed to be the first frame of the video, and all instances must be annotated. Query consists of the entire sequence."
   ]
  },
  {
   "cell_type": "code",
   "execution_count": null,
   "metadata": {},
   "outputs": [],
   "source": [
    "is_eval = True\n",
    "\n",
    "sem_ds = DAVISInstSeg(split='val')\n",
    "vid_dsets = {vid: SparseSeg(SlugFilter(sem_ds, 'vid', [vid]), count=count, static=is_eval) for vid in sem_ds.load_videos()}\n",
    "cond_ds = ConditionalVideoSeg(sem_ds, vid_dsets, shot=shot, evaluation=is_eval)\n",
    "load_and_show(cond_ds, shot)"
   ]
  }
 ],
 "metadata": {
  "kernelspec": {
   "display_name": "Python 3",
   "language": "python",
   "name": "python3"
  },
  "language_info": {
   "codemirror_mode": {
    "name": "ipython",
    "version": 3
   },
   "file_extension": ".py",
   "mimetype": "text/x-python",
   "name": "python",
   "nbconvert_exporter": "python",
   "pygments_lexer": "ipython3",
   "version": "3.6.4"
  }
 },
 "nbformat": 4,
 "nbformat_minor": 2
}
