{
 "cells": [
  {
   "cell_type": "code",
   "execution_count": null,
   "metadata": {},
   "outputs": [],
   "source": [
    "import os\n",
    "import numpy as np\n",
    "import copy\n",
    "from PIL import Image\n",
    "\n",
    "import matplotlib.pyplot as plt\n",
    "%matplotlib inline"
   ]
  },
  {
   "cell_type": "code",
   "execution_count": null,
   "metadata": {},
   "outputs": [],
   "source": [
    "# switch working dir to project root (found via Git)\n",
    "import os\n",
    "import subprocess\n",
    "\n",
    "root_dir = subprocess.check_output(['git', 'rev-parse', '--show-toplevel']).strip()\n",
    "print(root_dir)\n",
    "os.chdir(root_dir)"
   ]
  },
  {
   "cell_type": "code",
   "execution_count": null,
   "metadata": {},
   "outputs": [],
   "source": [
    "# Stolen from https://github.com/shelhamer/fcn.berkeleyvision.org/blob/master/vis.py\n",
    "def vis_seg(img, seg, palette, alpha=0.5):\n",
    "    \"\"\"\n",
    "    Visualize segmentation as an overlay on the image.\n",
    "    Takes:\n",
    "        img: H x W x 3 image in [0, 255]\n",
    "        seg: H x W segmentation image of class IDs\n",
    "        palette: K x 3 colormap for all classes\n",
    "        alpha: opacity of the segmentation in [0, 1]\n",
    "    Gives:\n",
    "        H x W x 3 image with overlaid segmentation\n",
    "    \"\"\"\n",
    "    vis = np.array(img, dtype=np.float32)\n",
    "    mask = seg > 0\n",
    "    vis[mask] *= 1. - alpha\n",
    "    vis[mask] += alpha * palette[seg[mask].flat]\n",
    "    vis = vis.astype(np.uint8)\n",
    "    return vis"
   ]
  },
  {
   "cell_type": "markdown",
   "metadata": {},
   "source": [
    "Choose experiment settings to view results."
   ]
  },
  {
   "cell_type": "code",
   "execution_count": null,
   "metadata": {},
   "outputs": [],
   "source": [
    "from revolver.data.davis import DAVISInstSeg\n",
    "\n",
    "# Exp Config\n",
    "exp = 'cofeat-late-davis-diossbdft-fixed-lr5'\n",
    "it = '100000'\n",
    "model = 'cofeat-late'\n",
    "dataset = 'davis'\n",
    "datatype = 'late-conditional-video'\n",
    "split = 'val'\n",
    "count = -1\n",
    "shot = 2\n",
    "seed = 1337\n",
    "\n",
    "data_root = f\"data/{dataset}\"\n",
    "exp_dir = f\"./experiments/{exp}/\"\n",
    "count_ = 'dense' if count == -1 else \"{}sparse\".format(count) if count else 'randsparse'\n",
    "output_dir = '{}{}-iter{}-{}-{}-{}-{}-{}shot-{}'.format(exp_dir, model, it, dataset, datatype, split, count_, shot, seed)\n",
    "print('Loading segmentations from:\\n', output_dir)\n",
    "\n",
    "ds = DAVISInstSeg()\n",
    "\n",
    "seqs = open(f\"{data_root}/ImageSets/2017/val.txt\", 'r').read().splitlines()\n",
    "print(f'Sequences to choose from: {seqs}')"
   ]
  },
  {
   "cell_type": "markdown",
   "metadata": {},
   "source": [
    "Choose sequence to view segmentations."
   ]
  },
  {
   "cell_type": "code",
   "execution_count": null,
   "metadata": {},
   "outputs": [],
   "source": [
    "vid = 'bike-packing'\n",
    "frms = sorted(os.listdir(f\"{output_dir}/{vid}\"))\n",
    "\n",
    "start = 0\n",
    "num_show = 6"
   ]
  },
  {
   "cell_type": "markdown",
   "metadata": {},
   "source": [
    "Show image, ground truth seg, and prediction for subset `num_show` of sequence frames. Walk through the sequence in order, looping back to the beginning once the end is reached, overlaying the ground truth and predicted segmentations on the image."
   ]
  },
  {
   "cell_type": "code",
   "execution_count": null,
   "metadata": {
    "scrolled": false
   },
   "outputs": [],
   "source": [
    "end = start + num_show\n",
    "k = min(len(frms) - start, num_show)\n",
    "\n",
    "fig, axes = plt.subplots(k,3, figsize=(30, 30))\n",
    "fd = {'fontsize': 30}\n",
    "axes[0,0].set_title('Original Video Frame', fontdict=fd)\n",
    "axes[0,1].set_title('Ground Truth Segmentation', fontdict=fd)\n",
    "axes[0,2].set_title('Predicted Segmentation', fontdict=fd)\n",
    "\n",
    "print(output_dir)\n",
    "print('Video:', vid)\n",
    "print(f\"Frames {start} through {start +k}\")\n",
    "\n",
    "for i, frm in enumerate(frms[start: start + k]):\n",
    "    # load image, gt seg, and predicted seg\n",
    "    img = Image.fromarray(ds.load_image(ds.slug_to_image_path((vid, frm[:-4]))))\n",
    "    gt = ds.load_annotation(ds.slug_to_annotation_path((vid, frm[:-4])))\n",
    "    seg = np.array(Image.open(f\"{output_dir}/{vid}/{frm}\"), dtype=np.uint8)\n",
    "    \n",
    "    # overlay segs on image\n",
    "    seg = vis_seg(img, seg, ds.palette, alpha=0.5)\n",
    "    gt = vis_seg(img, gt, ds.palette, alpha=0.5)\n",
    "    \n",
    "    axes[i, 0].imshow(img)\n",
    "    axes[i, 1].imshow(gt)\n",
    "    axes[i, 2].imshow(seg)\n",
    "    \n",
    "    for _, ax in np.ndenumerate(axes):\n",
    "        ax.set_axis_off()\n",
    "    \n",
    "plt.tight_layout()\n",
    "\n",
    "start += num_show\n",
    "if end >= len(frms):\n",
    "    start = 0"
   ]
  },
  {
   "cell_type": "markdown",
   "metadata": {},
   "source": [
    "Palette and overlay segmentations for all the sequences in the dataset and resave."
   ]
  },
  {
   "cell_type": "code",
   "execution_count": null,
   "metadata": {},
   "outputs": [],
   "source": [
    "counter = 0\n",
    "\n",
    "seg_dir = f\"{output_dir}-overlay\"\n",
    "os.makedirs(seg_dir, exist_ok=True)\n",
    "\n",
    "for vid in videos:\n",
    "    frms = sorted(os.listdir(f\"{output_dir}/{vid}\"))\n",
    "    for i, frm in enumerate(frms):\n",
    "        # skip existing\n",
    "        if os.path.isfile(f\"{seg_dir}/{frm}\"):\n",
    "            continue\n",
    "        img = Image.fromarray(ds.load_image(ds.slug_to_image_path((vid, frm[:-4]))))\n",
    "        seg = np.array(Image.open(f\"{output_dir}/{vid}/{frm}\"), dtype=np.uint8)\n",
    "        seg = Image.fromarray(vis_seg(img, seg, ds.palette, alpha=0.5))\n",
    "        seg.save(f\"{seg_dir}/{frm[:-4]}.jpg\")"
   ]
  }
 ],
 "metadata": {
  "kernelspec": {
   "display_name": "Python 3",
   "language": "python",
   "name": "python3"
  },
  "language_info": {
   "codemirror_mode": {
    "name": "ipython",
    "version": 3
   },
   "file_extension": ".py",
   "mimetype": "text/x-python",
   "name": "python",
   "nbconvert_exporter": "python",
   "pygments_lexer": "ipython3",
   "version": "3.6.4"
  }
 },
 "nbformat": 4,
 "nbformat_minor": 2
}
